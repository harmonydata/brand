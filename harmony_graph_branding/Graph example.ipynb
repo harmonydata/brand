{
 "cells": [
  {
   "cell_type": "code",
   "execution_count": 1,
   "id": "5d20f4e9",
   "metadata": {},
   "outputs": [],
   "source": [
    "import harmonybrand\n",
    "\n",
    "import plotly.express as px\n",
    "fig = px.line(x=[1,2,3], y=[3,1,2],\n",
    "                title=\"<b>Receiver operating characteristic</b>\")\n",
    "\n",
    "harmonybrand.harmonydark(fig)\n",
    "\n",
    "# fig.update_layout(title_font_family=\"Montserrat\")\n",
    "\n",
    "fig.write_image(\"harmony_dark.svg\")"
   ]
  },
  {
   "cell_type": "code",
   "execution_count": 2,
   "id": "3a9c0fab",
   "metadata": {},
   "outputs": [],
   "source": [
    "import harmonybrand\n",
    "\n",
    "import plotly.express as px\n",
    "fig = px.line(x=[1,2,3], y=[3,1,2],\n",
    "                title=\"<b>Receiver operating characteristic</b>\")\n",
    "\n",
    "harmonybrand.harmonydark(fig)\n",
    "\n",
    "# fig.update_layout(title_font_family=\"Montserrat\")\n",
    "\n",
    "fig.write_image(\"harmony_light.svg\")"
   ]
  },
  {
   "cell_type": "code",
   "execution_count": 3,
   "id": "6171e24c",
   "metadata": {},
   "outputs": [],
   "source": [
    "!convert harmony_light.svg harmony_light.png"
   ]
  },
  {
   "cell_type": "code",
   "execution_count": null,
   "id": "abbc749b",
   "metadata": {},
   "outputs": [],
   "source": []
  }
 ],
 "metadata": {
  "kernelspec": {
   "display_name": "Python [conda env:py310] *",
   "language": "python",
   "name": "conda-env-py310-py"
  },
  "language_info": {
   "codemirror_mode": {
    "name": "ipython",
    "version": 3
   },
   "file_extension": ".py",
   "mimetype": "text/x-python",
   "name": "python",
   "nbconvert_exporter": "python",
   "pygments_lexer": "ipython3",
   "version": "3.10.4"
  }
 },
 "nbformat": 4,
 "nbformat_minor": 5
}
